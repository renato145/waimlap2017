{
 "cells": [
  {
   "cell_type": "markdown",
   "metadata": {},
   "source": [
    "## Dropout as a Bayesian Approximation: Representing Model Uncertainty in Deep Learning\n",
    " \n",
    "https://arxiv.org/abs/1506.02142"
   ]
  },
  {
   "cell_type": "code",
   "execution_count": 1,
   "metadata": {},
   "outputs": [
    {
     "name": "stderr",
     "output_type": "stream",
     "text": [
      "Using TensorFlow backend.\n",
      "/home/kopita/anaconda3/envs/ml/lib/python3.6/importlib/_bootstrap.py:219: RuntimeWarning: compiletime version 3.5 of module 'tensorflow.python.framework.fast_tensor_util' does not match runtime version 3.6\n",
      "  return f(*args, **kwds)\n"
     ]
    }
   ],
   "source": [
    "import numpy as np\n",
    "import matplotlib.pyplot as plt\n",
    "from keras.datasets import mnist\n",
    "import keras.backend as K\n",
    "from keras.models import Sequential\n",
    "from keras.layers import Conv2D, Dense, Activation, Dropout, Lambda, Flatten, MaxPool2D\n",
    "%matplotlib inline"
   ]
  },
  {
   "cell_type": "code",
   "execution_count": 3,
   "metadata": {},
   "outputs": [
    {
     "data": {
      "text/plain": [
       "((60000, 28, 28, 1), (60000,))"
      ]
     },
     "execution_count": 3,
     "metadata": {},
     "output_type": "execute_result"
    }
   ],
   "source": [
    "(x_train, y_train), (x_test, y_test) = mnist.load_data()\n",
    "x_train = x_train.reshape((-1,28,28,1))\n",
    "x_test = x_test.reshape((-1,28,28,1))\n",
    "x_train.shape, y_train.shape"
   ]
  },
  {
   "cell_type": "markdown",
   "metadata": {},
   "source": [
    "### De esta forma se puede definir una capa que aplique dropout tanto al entrenar como al usar la red:\n",
    "* Lambda(lambda x: K.dropout(x, level=0.5))"
   ]
  },
  {
   "cell_type": "code",
   "execution_count": null,
   "metadata": {},
   "outputs": [],
   "source": [
    "# TODO:\n",
    "# 1. Definir una red\n",
    "# 2. Agregar dropouts\n",
    "model.summary()"
   ]
  },
  {
   "cell_type": "code",
   "execution_count": null,
   "metadata": {
    "scrolled": true
   },
   "outputs": [],
   "source": [
    "# 3 Entrenar la red"
   ]
  },
  {
   "cell_type": "markdown",
   "metadata": {},
   "source": [
    "# Visualizar resultados\n",
    "\n",
    "Dado que el dropout actua de manera aleatoria, los resultados de prediccion van a ser distintos en cada ejecución. Si para un ejemplo ejecutamos muchas predicciones, podemos tener una idea de la distribución de probabilidad."
   ]
  },
  {
   "cell_type": "code",
   "execution_count": null,
   "metadata": {},
   "outputs": [],
   "source": [
    "def predict(x, n=1000):\n",
    "    # 1. Usar el modelo para predecir x, n veces\n",
    "    # (tip: np_array.repeat())\n",
    "    \n",
    "    # 2. Obtener el promedio y desviacion estandard de los resultados.\n",
    "    # np.mean(), np.std()\n",
    "    \n",
    "    return mean, std\n",
    "\n",
    "# Prueba la funcion"
   ]
  },
  {
   "cell_type": "code",
   "execution_count": null,
   "metadata": {},
   "outputs": [],
   "source": [
    "def plot_pred():\n",
    "    # TODO:\n",
    "    # 1. Obten una muestra de x_test y su correspondiente label (y_test)\n",
    "    sample_x = ...\n",
    "    sample_y = ...\n",
    "    \n",
    "    # 2. Usa la funcion predict en la muestra\n",
    "    mean, std = ...\n",
    "    \n",
    "    # 3. Obten el label\n",
    "    label = ...\n",
    "    \n",
    "    print(f'Prediction: {label}')\n",
    "    print(f'Real      : {sample_y}')\n",
    "    \n",
    "    # Muestra los resultados\n",
    "    fig, ax = plt.subplots(ncols=2, figsize=(14,6))\n",
    "    ax[0].imshow(sample_x.reshape(28,28), cmap='gray')\n",
    "    ax[0].axis('off')\n",
    "    std_lines = [(m - 1.96*s, m + 1.96*s) for m,s in zip(mean, std)]\n",
    "    for i, (y1,y2) in enumerate(std_lines):\n",
    "        ax[1].vlines(i, y1, y2, 'red', 'dashed', linewidth=2)\n",
    "        \n",
    "    ax[1].scatter(range(10), y_, s=100, c='b')\n",
    "    ax[1].set_xticks(range(10))\n",
    "    plt.show()"
   ]
  },
  {
   "cell_type": "code",
   "execution_count": null,
   "metadata": {
    "scrolled": false
   },
   "outputs": [],
   "source": [
    "for _ in range(10):\n",
    "    plot_pred()"
   ]
  },
  {
   "cell_type": "code",
   "execution_count": null,
   "metadata": {},
   "outputs": [],
   "source": []
  }
 ],
 "metadata": {
  "kernelspec": {
   "display_name": "Python 3",
   "language": "python",
   "name": "python3"
  },
  "language_info": {
   "codemirror_mode": {
    "name": "ipython",
    "version": 3
   },
   "file_extension": ".py",
   "mimetype": "text/x-python",
   "name": "python",
   "nbconvert_exporter": "python",
   "pygments_lexer": "ipython3",
   "version": "3.6.3"
  }
 },
 "nbformat": 4,
 "nbformat_minor": 2
}
