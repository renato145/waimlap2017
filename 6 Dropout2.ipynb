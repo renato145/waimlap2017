{
 "cells": [
  {
   "cell_type": "markdown",
   "metadata": {},
   "source": [
    "## Dropout as a Bayesian Approximation: Representing Model Uncertainty in Deep Learning\n",
    " \n",
    "https://arxiv.org/abs/1506.02142"
   ]
  },
  {
   "cell_type": "code",
   "execution_count": null,
   "metadata": {},
   "outputs": [],
   "source": [
    "import numpy as np\n",
    "import matplotlib.pyplot as plt\n",
    "from keras.datasets import mnist\n",
    "import keras.backend as K\n",
    "from keras.models import Sequential\n",
    "from keras.layers import Conv2D, Dense, Activation, Dropout, Lambda, Flatten, MaxPool2D\n",
    "%matplotlib inline"
   ]
  },
  {
   "cell_type": "code",
   "execution_count": null,
   "metadata": {},
   "outputs": [],
   "source": [
    "(x_train, y_train), (x_test, y_test) = mnist.load_data()\n",
    "x_train = x_train.reshape((-1,28,28,1))\n",
    "x_test = x_test.reshape((-1,28,28,1))\n",
    "x_train.shape, y_train.shape"
   ]
  },
  {
   "cell_type": "markdown",
   "metadata": {},
   "source": [
    "### Usar el siguiente codigo para aplicar el dropout tanto al entrenar como al usar la red:\n",
    "\n",
    "model.add(Lambda(lambda x: K.dropout(x, level=dropout)))"
   ]
  },
  {
   "cell_type": "code",
   "execution_count": null,
   "metadata": {},
   "outputs": [],
   "source": [
    "# TODO:\n",
    "# 1. Definir una red\n",
    "# 2. Agregar dropouts\n",
    "model.summary()"
   ]
  },
  {
   "cell_type": "code",
   "execution_count": null,
   "metadata": {
    "scrolled": true
   },
   "outputs": [],
   "source": [
    "# 3 Entrenar la red"
   ]
  },
  {
   "cell_type": "markdown",
   "metadata": {},
   "source": [
    "# Visualizar resultados"
   ]
  },
  {
   "cell_type": "code",
   "execution_count": null,
   "metadata": {},
   "outputs": [],
   "source": [
    "def predict(x, samples=10000):\n",
    "    t = x.reshape((1,28,28,1))\n",
    "    t = t.repeat(samples, 0)\n",
    "    ty = model.predict(t, batch_size=2048)\n",
    "    y_ = np.mean(ty, 0)\n",
    "    std = np.std(ty, 0)\n",
    "    \n",
    "    return y_, std\n",
    "\n",
    "\n",
    "def plot_pred(i, samples=10000):\n",
    "    y_, std = predict(x_test[i], samples)\n",
    "    y = np.argmax(y_)\n",
    "    # show img\n",
    "    print(f'Prediction: {y}')\n",
    "    print(f'Real      : {y_test[i]}')\n",
    "    fig, ax = plt.subplots(ncols=2, figsize=(14,6))\n",
    "    ax[0].imshow(x_test[i].reshape(28,28), cmap='gray')\n",
    "    ax[0].axis('off')\n",
    "    std_lines = [(y - 1.96*std[i], y + 1.96*std[i]) for i,y in enumerate(y_)]\n",
    "    # plt.figure(figsize=(14,6))\n",
    "    for i, (y1,y2) in enumerate(std_lines):\n",
    "        ax[1].vlines(i, y1, y2, 'red', 'dashed', linewidth=2)\n",
    "    ax[1].scatter(range(10), y_, s=100, c='b')\n",
    "    ax[1].set_xticks(range(10))\n",
    "    plt.show()\n"
   ]
  },
  {
   "cell_type": "code",
   "execution_count": null,
   "metadata": {
    "scrolled": false
   },
   "outputs": [],
   "source": [
    "for _ in range(10):\n",
    "    random_i = np.random.choice(len(x_test))\n",
    "    plot_pred(random_i)"
   ]
  },
  {
   "cell_type": "code",
   "execution_count": null,
   "metadata": {},
   "outputs": [],
   "source": []
  }
 ],
 "metadata": {
  "kernelspec": {
   "display_name": "Python 3",
   "language": "python",
   "name": "python3"
  },
  "language_info": {
   "codemirror_mode": {
    "name": "ipython",
    "version": 3
   },
   "file_extension": ".py",
   "mimetype": "text/x-python",
   "name": "python",
   "nbconvert_exporter": "python",
   "pygments_lexer": "ipython3",
   "version": "3.6.3"
  }
 },
 "nbformat": 4,
 "nbformat_minor": 2
}
