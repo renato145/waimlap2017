{
 "cells": [
  {
   "cell_type": "markdown",
   "metadata": {},
   "source": [
    "Download http://files.grouplens.org/datasets/movielens/ml-latest-small.zip"
   ]
  },
  {
   "cell_type": "code",
   "execution_count": null,
   "metadata": {},
   "outputs": [],
   "source": [
    "import pandas as pd\n",
    "import numpy as np\n",
    "import matplotlib.pyplot as plt\n",
    "from keras.models import Model\n",
    "from keras.layers import Dense, Embedding, Input, Dot, Add, Flatten\n",
    "from keras.optimizers import SGD, Adam\n",
    "from keras.utils import to_categorical\n",
    "from keras.regularizers import l2\n",
    "import keras.backend as K\n",
    "%matplotlib inline"
   ]
  },
  {
   "cell_type": "markdown",
   "metadata": {},
   "source": [
    "# Examinando el dataset"
   ]
  },
  {
   "cell_type": "code",
   "execution_count": null,
   "metadata": {},
   "outputs": [],
   "source": [
    "!ls /path/ml-latest-small/"
   ]
  },
  {
   "cell_type": "code",
   "execution_count": null,
   "metadata": {},
   "outputs": [],
   "source": [
    "ratings = pd.read_csv('/path/ml-latest-small/ratings.csv')\n",
    "print(ratings.shape)\n",
    "ratings.head(5)"
   ]
  },
  {
   "cell_type": "code",
   "execution_count": null,
   "metadata": {},
   "outputs": [],
   "source": [
    "movie_names = pd.read_csv('/path/ml-latest-small/movies.csv')\n",
    "movie_names.head()"
   ]
  },
  {
   "cell_type": "code",
   "execution_count": null,
   "metadata": {},
   "outputs": [],
   "source": [
    "# Justamos los 2 datasets y filtramos las columnas que nos interesan\n",
    "ratings = ratings.join(movie_names, on='movieId', rsuffix='_').loc[:, ['userId', 'movieId', 'rating', 'title']]\n",
    "ratings.head()"
   ]
  },
  {
   "cell_type": "code",
   "execution_count": null,
   "metadata": {},
   "outputs": [],
   "source": [
    "# Obtenemos la lista de usuarios y peliculas unicas\n",
    "users = ratings.userId.unique()\n",
    "movies = ratings.movieId.unique()"
   ]
  },
  {
   "cell_type": "code",
   "execution_count": null,
   "metadata": {},
   "outputs": [],
   "source": [
    "# Reemplazamos los IDs por numeros continuos\n",
    "userid2idx = {o:i for i,o in enumerate(users)}\n",
    "movieid2idx = {o:i for i,o in enumerate(movies)}\n",
    "\n",
    "ratings.movieId = ratings.movieId.apply(lambda x: movieid2idx[x])\n",
    "ratings.userId = ratings.userId.apply(lambda x: userid2idx[x])\n",
    "\n",
    "ratings.head()"
   ]
  },
  {
   "cell_type": "code",
   "execution_count": null,
   "metadata": {},
   "outputs": [],
   "source": [
    "n_users = ratings.userId.nunique()\n",
    "n_movies = ratings.movieId.nunique()\n",
    "n_users, n_movies"
   ]
  },
  {
   "cell_type": "markdown",
   "metadata": {},
   "source": [
    "# Crear el modelo"
   ]
  },
  {
   "cell_type": "code",
   "execution_count": null,
   "metadata": {},
   "outputs": [],
   "source": [
    "# Cuantos factores va a usar el Embedding para describir nuestras variables\n",
    "n_factors = 50\n",
    "\n",
    "# Embeddings para los usuarios\n",
    "user_in = Input(shape=(1,), dtype='int64', name='user_in')\n",
    "u = Embedding(n_users, n_factors, input_length=1, embeddings_regularizer=l2(1e-4))(user_in)\n",
    "\n",
    "# Embeddings para las peliculas\n",
    "movie_in = Input(shape=(1,), dtype='int64', name='movie_in')\n",
    "m = Embedding(n_movies, n_factors, input_length=1, embeddings_regularizer=l2(1e-4))(movie_in)"
   ]
  },
  {
   "cell_type": "code",
   "execution_count": null,
   "metadata": {},
   "outputs": [],
   "source": [
    "x = Dot(axes=2)([u, m])\n",
    "x = Flatten()(x)\n",
    "model = Model(inputs=[user_in, movie_in], outputs=x)\n",
    "model.compile(Adam(0.01), loss='mse')\n",
    "model.summary()"
   ]
  },
  {
   "cell_type": "markdown",
   "metadata": {},
   "source": [
    "# Entrenar"
   ]
  },
  {
   "cell_type": "code",
   "execution_count": null,
   "metadata": {},
   "outputs": [],
   "source": [
    "# TODO:\n",
    "# 1. Separar la data en train y validation\n",
    "# 2. Entrenar la red\n",
    "# 3. Plotear el entrenamiento\n",
    "# 4. Ver resultados\n",
    "\n",
    "# Extra:\n",
    "# - encontrar un lr adecuado"
   ]
  },
  {
   "cell_type": "markdown",
   "metadata": {},
   "source": [
    "# Agregar un bias a la red"
   ]
  },
  {
   "cell_type": "code",
   "execution_count": null,
   "metadata": {},
   "outputs": [],
   "source": [
    "user_in = Input(shape=(1,), dtype='int64', name='user_in')\n",
    "u = Embedding(n_users, n_factors, input_length=1, embeddings_regularizer=l2(1e-4))(user_in)\n",
    "\n",
    "movie_in = Input(shape=(1,), dtype='int64', name='movie_in')\n",
    "m = Embedding(n_movies, n_factors, input_length=1, embeddings_regularizer=l2(1e-4))(movie_in)\n",
    "\n",
    "# Bias para los usuarios\n",
    "u_bias = Embedding(n_users, 1, input_length=1)(user_in)\n",
    "u_bias = Flatten()(u_bias)\n",
    "\n",
    "# Bias para las peliculas\n",
    "m_bias = Embedding(n_movies, 1, input_length=1)(movie_in)\n",
    "m_bias = Flatten()(m_bias)\n",
    "\n",
    "x = Dot(axes=2)([u, m])\n",
    "x = Flatten()(x)\n",
    "\n",
    "# Sumamos los bias al producto\n",
    "x = Add()([x, u_bias])\n",
    "x = Add()([x, m_bias])\n",
    "\n",
    "model = Model(inputs=[user_in, movie_in], outputs=x)\n",
    "model.compile(Adam(0.01), loss='mse')\n",
    "model.summary()"
   ]
  },
  {
   "cell_type": "markdown",
   "metadata": {},
   "source": [
    "# Explorar los resultados"
   ]
  },
  {
   "cell_type": "code",
   "execution_count": null,
   "metadata": {},
   "outputs": [],
   "source": [
    "# ¿Qué pelicuas tienen el bias mas alto, y cuales el mas bajo?\n",
    "# ¿Como se puede interpretar los bias de los usuarios y peliculas?\n",
    "\n",
    "# Extra: Explorar los embeddings\n",
    "# Dado que los embeddings tienen 50 valores, pueden ser dificiles de explorar.\n",
    "# Pero podemos usar una reduccion de dimesionalidad, como PCA:\n",
    "# from sklearn.decomposition import PCA\n",
    "# - Reducir las dimensionas y visualizar la data"
   ]
  }
 ],
 "metadata": {
  "kernelspec": {
   "display_name": "Python 3",
   "language": "python",
   "name": "python3"
  },
  "language_info": {
   "codemirror_mode": {
    "name": "ipython",
    "version": 3
   },
   "file_extension": ".py",
   "mimetype": "text/x-python",
   "name": "python",
   "nbconvert_exporter": "python",
   "pygments_lexer": "ipython3",
   "version": "3.6.3"
  }
 },
 "nbformat": 4,
 "nbformat_minor": 2
}
